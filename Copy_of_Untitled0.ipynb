{
  "nbformat": 4,
  "nbformat_minor": 0,
  "metadata": {
    "colab": {
      "provenance": [],
      "mount_file_id": "1NhwQ296qZkSYwqRweAkPwm8g0dKLyNG8",
      "authorship_tag": "ABX9TyMjk+6wjbAqIEBBfJImLDPn",
      "include_colab_link": true
    },
    "kernelspec": {
      "name": "python3",
      "display_name": "Python 3"
    },
    "language_info": {
      "name": "python"
    }
  },
  "cells": [
    {
      "cell_type": "markdown",
      "metadata": {
        "id": "view-in-github",
        "colab_type": "text"
      },
      "source": [
        "<a href=\"https://colab.research.google.com/github/mrdesai787/self1/blob/main/Copy_of_Untitled0.ipynb\" target=\"_parent\"><img src=\"https://colab.research.google.com/assets/colab-badge.svg\" alt=\"Open In Colab\"/></a>"
      ]
    },
    {
      "cell_type": "markdown",
      "source": [
        "# public Link"
      ],
      "metadata": {
        "id": "ftjv2EFw7uJs"
      }
    },
    {
      "cell_type": "code",
      "source": [
        "!wget https://github.com/curran/data/blob/gh-pages/migrants/events.csv\n"
      ],
      "metadata": {
        "colab": {
          "base_uri": "https://localhost:8080/"
        },
        "id": "G35cF-fY_eKL",
        "outputId": "27a661e9-43c0-4e1d-9a74-2a7b4f052dc8"
      },
      "execution_count": null,
      "outputs": [
        {
          "output_type": "stream",
          "name": "stdout",
          "text": [
            "--2023-07-13 06:44:48--  https://github.com/curran/data/blob/gh-pages/migrants/events.csv\n",
            "Resolving github.com (github.com)... 140.82.121.4\n",
            "Connecting to github.com (github.com)|140.82.121.4|:443... connected.\n",
            "HTTP request sent, awaiting response... 200 OK\n",
            "Length: 8522 (8.3K) [text/plain]\n",
            "Saving to: ‘events.csv’\n",
            "\n",
            "events.csv          100%[===================>]   8.32K  --.-KB/s    in 0s      \n",
            "\n",
            "2023-07-13 06:44:49 (113 MB/s) - ‘events.csv’ saved [8522/8522]\n",
            "\n"
          ]
        }
      ]
    },
    {
      "cell_type": "code",
      "source": [
        "# list down all the file\n",
        "!ls"
      ],
      "metadata": {
        "colab": {
          "base_uri": "https://localhost:8080/"
        },
        "id": "rZkGs0Rg_m88",
        "outputId": "8b121cbf-6672-4692-c60c-861bcf74c290"
      },
      "execution_count": null,
      "outputs": [
        {
          "output_type": "stream",
          "name": "stdout",
          "text": [
            "events.csv  sample_data\n"
          ]
        }
      ]
    },
    {
      "cell_type": "code",
      "source": [
        "import pandas as pd"
      ],
      "metadata": {
        "id": "BrJO2dT0_zqk"
      },
      "execution_count": null,
      "outputs": []
    },
    {
      "cell_type": "code",
      "source": [
        "pd.read_csv(\"events.csv\", sep =\"\\t\").head()"
      ],
      "metadata": {
        "colab": {
          "base_uri": "https://localhost:8080/",
          "height": 617
        },
        "id": "Ap3L_NrvAqX5",
        "outputId": "8e902359-6546-40ca-90a1-af2e836df1c1"
      },
      "execution_count": null,
      "outputs": [
        {
          "output_type": "execute_result",
          "data": {
            "text/plain": [
              "Empty DataFrame\n",
              "Columns: [{\"payload\":{\"allShortcutsEnabled\":false,\"fileTree\":{\"migrants\":{\"items\":[{\"name\":\"README.md\",\"path\":\"migrants/README.md\",\"contentType\":\"file\"},{\"name\":\"events.csv\",\"path\":\"migrants/events.csv\",\"contentType\":\"file\"}],\"totalCount\":2},\"\":{\"items\":[{\"name\":\"HRMcMaster\",\"path\":\"HRMcMaster\",\"contentType\":\"directory\"},{\"name\":\"Rdatasets\",\"path\":\"Rdatasets\",\"contentType\":\"directory\"},{\"name\":\"SyriaViolationsDocumentationCenter\",\"path\":\"SyriaViolationsDocumentationCenter\",\"contentType\":\"directory\"},{\"name\":\"airbnb\",\"path\":\"airbnb\",\"contentType\":\"directory\"},{\"name\":\"all\",\"path\":\"all\",\"contentType\":\"directory\"},{\"name\":\"amitkaps\",\"path\":\"amitkaps\",\"contentType\":\"directory\"},{\"name\":\"appliedPredictiveModeling\",\"path\":\"appliedPredictiveModeling\",\"contentType\":\"directory\"},{\"name\":\"bokeh\",\"path\":\"bokeh\",\"contentType\":\"directory\"},{\"name\":\"calc\",\"path\":\"calc\",\"contentType\":\"directory\"},{\"name\":\"cdc\",\"path\":\"cdc\",\"contentType\":\"directory\"},{\"name\":\"correlatesofwar\",\"path\":\"correlatesofwar\",\"contentType\":\"directory\"},{\"name\":\"d3Examples\",\"path\":\"d3Examples\",\"contentType\":\"directory\"},{\"name\":\"data.gov.in\",\"path\":\"data.gov.in\",\"contentType\":\"directory\"},{\"name\":\"data.gov\",\"path\":\"data.gov\",\"contentType\":\"directory\"},{\"name\":\"dataSoup\",\"path\":\"dataSoup\",\"contentType\":\"directory\"},{\"name\":\"datalibExamples\",\"path\":\"datalibExamples\",\"contentType\":\"directory\"},{\"name\":\"dbpedia\",\"path\":\"dbpedia\",\"contentType\":\"directory\"},{\"name\":\"dcjs\",\"path\":\"dcjs\",\"contentType\":\"directory\"},{\"name\":\"dspl\",\"path\":\"dspl\",\"contentType\":\"directory\"},{\"name\":\"faostat\",\"path\":\"faostat\",\"contentType\":\"directory\"},{\"name\":\"fbi\",\"path\":\"fbi\",\"contentType\":\"directory\"},{\"name\":\"gapminder\",\"path\":\"gapminder\",\"contentType\":\"directory\"},{\"name\":\"geonames\",\"path\":\"geonames\",\"contentType\":\"directory\"},{\"name\":\"indiaGovOpenData\",\"path\":\"indiaGovOpenData\",\"contentType\":\"directory\"},{\"name\":\"integrated\",\"path\":\"integrated\",\"contentType\":\"directory\"},{\"name\":\"ipo\",\"path\":\"ipo\",\"contentType\":\"directory\"},{\"name\":\"jsLibraries\",\"path\":\"jsLibraries\",\"contentType\":\"directory\"},{\"name\":\"mattermark\",\"path\":\"mattermark\",\"contentType\":\"directory\"},{\"name\":\"medicalStoreChallenge\",\"path\":\"medicalStoreChallenge\",\"contentType\":\"directory\"},{\"name\":\"migrants\",\"path\":\"migrants\",\"contentType\":\"directory\"},{\"name\":\"motherjones\",\"path\":\"motherjones\",\"contentType\":\"directory\"},{\"name\":\"nsf\",\"path\":\"nsf\",\"contentType\":\"directory\"},{\"name\":\"nyt\",\"path\":\"nyt\",\"contentType\":\"directory\"},{\"name\":\"oecd\",\"path\":\"oecd\",\"contentType\":\"directory\"},{\"name\":\"olpc\",\"path\":\"olpc\",\"contentType\":\"directory\"},{\"name\":\"osm\",\"path\":\"osm\",\"contentType\":\"directory\"},{\"name\":\"pew\",\"path\":\"pew\",\"contentType\":\"directory\"},{\"name\":\"playfair\",\"path\":\"playfair\",\"contentType\":\"directory\"},{\"name\":\"plotlyExamples\",\"path\":\"plotlyExamples\",\"contentType\":\"directory\"},{\"name\":\"sankey-datasets\",\"path\":\"sankey-datasets\",\"contentType\":\"directory\"},{\"name\":\"senseYourCity\",\"path\":\"senseYourCity\",\"contentType\":\"directory\"},{\"name\":\"slavevoyages\",\"path\":\"slavevoyages\",\"contentType\":\"directory\"},{\"name\":\"stackOverflow\",\"path\":\"stackOverflow\",\"contentType\":\"directory\"},{\"name\":\"statCounter\",\"path\":\"statCounter\",\"contentType\":\"directory\"},{\"name\":\"superstoreSales\",\"path\":\"superstoreSales\",\"contentType\":\"directory\"},{\"name\":\"syntagmatic\",\"path\":\"syntagmatic\",\"contentType\":\"directory\"},{\"name\":\"trumpSpeech\",\"path\":\"trumpSpeech\",\"contentType\":\"directory\"},{\"name\":\"tuskegeeInstitute\",\"path\":\"tuskegeeInstitute\",\"contentType\":\"directory\"},{\"name\":\"tweets\",\"path\":\"tweets\",\"contentType\":\"directory\"},{\"name\":\"uci_ml\",\"path\":\"uci_ml\",\"contentType\":\"directory\"},{\"name\":\"un\",\"path\":\"un\",\"contentType\":\"directory\"},{\"name\":\"undp\",\"path\":\"undp\",\"contentType\":\"directory\"},{\"name\":\"unhcr\",\"path\":\"unhcr\",\"contentType\":\"directory\"},{\"name\":\"usda\",\"path\":\"usda\",\"contentType\":\"directory\"},{\"name\":\"usgs\",\"path\":\"usgs\",\"contentType\":\"directory\"},{\"name\":\"util\",\"path\":\"util\",\"contentType\":\"directory\"},{\"name\":\"uwdata_voyager\",\"path\":\"uwdata_voyager\",\"contentType\":\"directory\"},{\"name\":\"vegaExamples\",\"path\":\"vegaExamples\",\"contentType\":\"directory\"},{\"name\":\"w3schools\",\"path\":\"w3schools\",\"contentType\":\"directory\"},{\"name\":\"wallStreetJournal\",\"path\":\"wallStreetJournal\",\"contentType\":\"directory\"},{\"name\":\"wikibon\",\"path\":\"wikibon\",\"contentType\":\"directory\"},{\"name\":\"worldBank\",\"path\":\"worldBank\",\"contentType\":\"directory\"},{\"name\":\"worldFactbook\",\"path\":\"worldFactbook\",\"contentType\":\"directory\"},{\"name\":\".gitignore\",\"path\":\".gitignore\",\"contentType\":\"file\"},{\"name\":\"Interest Group Spending 2000-2016.csv\",\"path\":\"Interest Group Spending 2000-2016.csv\",\"contentType\":\"file\"},{\"name\":\"LICENSE\",\"path\":\"LICENSE\",\"contentType\":\"file\"},{\"name\":\"README.md\",\"path\":\"README.md\",\"contentType\":\"file\"},{\"name\":\"package.json\",\"path\":\"package.json\",\"contentType\":\"file\"},{\"name\":\"test.js\",\"path\":\"test.js\",\"contentType\":\"file\"}],\"totalCount\":69}},\"fileTreeProcessingTime\":12.076785,\"foldersToFetch\":[],\"reducedMotionEnabled\":null,\"repo\":{\"id\":11796355,\"defaultBranch\":\"gh-pages\",\"name\":\"data\",\"ownerLogin\":\"curran\",\"currentUserCanPush\":false,\"isFork\":false,\"isEmpty\":false,\"createdAt\":\"2013-07-31T17:10:43.000Z\",\"ownerAvatar\":\"https://avatars.githubusercontent.com/u/68416?v=4\",\"public\":true,\"private\":false,\"isOrgOwned\":false},\"refInfo\":{\"name\":\"gh-pages\",\"listCacheKey\":\"v0:1681566383.0\",\"canEdit\":false,\"refType\":\"branch\",\"currentOid\":\"7dc5e36cd5171777e61ceffd893bedb5a4dd6525\"},\"path\":\"migrants/events.csv\",\"currentUser\":null,\"blob\":{\"rawLines\":[],\"stylingDirectives\":[],\"csv\":null,\"csvError\":null,\"dependabotInfo\":{\"showConfigurationBanner\":false,\"configFilePath\":null,\"networkDependabotPath\":\"/curran/data/network/updates\",\"dismissConfigurationNoticePath\":\"/settings/dismiss-notice/dependabot_configuration_notice\",\"configurationNoticeDismissed\":null,\"repoAlertsPath\":\"/curran/data/security/dependabot\",\"repoSecurityAndAnalysisPath\":\"/curran/data/settings/security_analysis\",\"repoOwnerIsOrg\":false,\"currentUserCanAdminRepo\":false},\"displayName\":\"events.csv\",\"displayUrl\":\"https://github.com/curran/data/blob/gh-pages/migrants/events.csv?raw=true\",\"headerInfo\":{\"blobSize\":\"1.14 MB\",\"deleteInfo\":{\"deletePath\":\"https://github.com/curran/data/delete/gh-pages/migrants/events.csv\",\"deleteTooltip\":\"You must be signed in to make or propose changes\"},\"editInfo\":{\"editTooltip\":\"You must be signed in to make or propose changes\"},\"ghDesktopPath\":\"https://desktop.github.com\",\"gitLfsPath\":null,\"onBranch\":true,\"shortPath\":\"b4e2309\",\"siteNavLoginPath\":\"/login?return_to=https%3A%2F%2Fgithub.com%2Fcurran%2Fdata%2Fblob%2Fgh-pages%2Fmigrants%2Fevents.csv\",\"isCSV\":false,\"isRichtext\":false,\"toc\":null,\"lineInfo\":{\"truncatedLoc\":null,\"truncatedSloc\":null},\"mode\":\"file\"},\"image\":false,\"isCodeownersFile\":null,\"isValidLegacyIssueTemplate\":false,\"issueTemplateHelpUrl\":\"https://docs.github.com/articles/about-issue-and-pull-request-templates\",\"issueTemplate\":null,\"discussionTemplate\":null,\"language\":null,\"large\":true,\"loggedIn\":false,\"newDiscussionPath\":\"/curran/data/discussions/new\",\"newIssuePath\":\"/curran/data/issues/new\",\"planSupportInfo\":{\"repoIsFork\":null,\"repoOwnedByCurrentUser\":null,\"requestFullPath\":\"/curran/data/blob/gh-pages/migrants/events.csv\",\"showFreeOrgGatedFeatureMessage\":null,\"showPlanSupportBanner\":null,\"upgradeDataAttributes\":null,\"upgradePath\":null},\"publishBannersInfo\":{\"dismissActionNoticePath\":\"/settings/dismiss-notice/publish_action_from_dockerfile\",\"dismissStackNoticePath\":\"/settings/dismiss-notice/publish_stack_from_file\",\"releasePath\":\"/curran/data/releases/new?marketplace=true\",\"showPublishActionBanner\":false,\"showPublishStackBanner\":false},\"renderImageOrRaw\":true,\"richText\":null,\"renderedFileInfo\":null,\"tabSize\":8,\"topBannersInfo\":{\"overridingGlobalFundingFile\":false,\"globalPreferredFundingPath\":null,\"repoOwner\":\"curran\",\"repoName\":\"data\",\"showInvalidCitationWarning\":false,\"citationHelpUrl\":\"https://docs.github.com/en/github/creating-cloning-and-archiving-repositories/creating-a-repository-on-github/about-citation-files\",\"showDependabotConfigurationBanner\":false,\"actionsOnboardingTip\":null},\"truncated\":true,\"viewable\":false,\"workflowRedirectUrl\":null,\"symbols\":{\"timedOut\":true,\"notAnalyzed\":true,\"symbols\":[],\"error\":{\"code\":\"invalid_argument\",\"msg\":\"content must be present\",\"meta\":{\"argument\":\"content\"}}}},\"copilotUserAccess\":null,\"csrf_tokens\":{\"/curran/data/branches\":{\"post\":\"xvtlYe_Qv_lK94NK17mKXRnsBc_KW0bszcsOR4icSuy7mEuZolnFzvZw0hiLnIc-bmfrJOmBtod_3aY8IIAxmA\"}}},\"title\":\"data/migrants/events.csv at gh-pages · curran/data\",\"locale\":\"en\"}]\n",
              "Index: []"
            ],
            "text/html": [
              "\n",
              "\n",
              "  <div id=\"df-e5987dcc-360a-4112-bb02-044aa736e11a\">\n",
              "    <div class=\"colab-df-container\">\n",
              "      <div>\n",
              "<style scoped>\n",
              "    .dataframe tbody tr th:only-of-type {\n",
              "        vertical-align: middle;\n",
              "    }\n",
              "\n",
              "    .dataframe tbody tr th {\n",
              "        vertical-align: top;\n",
              "    }\n",
              "\n",
              "    .dataframe thead th {\n",
              "        text-align: right;\n",
              "    }\n",
              "</style>\n",
              "<table border=\"1\" class=\"dataframe\">\n",
              "  <thead>\n",
              "    <tr style=\"text-align: right;\">\n",
              "      <th></th>\n",
              "      <th>{\"payload\":{\"allShortcutsEnabled\":false,\"fileTree\":{\"migrants\":{\"items\":[{\"name\":\"README.md\",\"path\":\"migrants/README.md\",\"contentType\":\"file\"},{\"name\":\"events.csv\",\"path\":\"migrants/events.csv\",\"contentType\":\"file\"}],\"totalCount\":2},\"\":{\"items\":[{\"name\":\"HRMcMaster\",\"path\":\"HRMcMaster\",\"contentType\":\"directory\"},{\"name\":\"Rdatasets\",\"path\":\"Rdatasets\",\"contentType\":\"directory\"},{\"name\":\"SyriaViolationsDocumentationCenter\",\"path\":\"SyriaViolationsDocumentationCenter\",\"contentType\":\"directory\"},{\"name\":\"airbnb\",\"path\":\"airbnb\",\"contentType\":\"directory\"},{\"name\":\"all\",\"path\":\"all\",\"contentType\":\"directory\"},{\"name\":\"amitkaps\",\"path\":\"amitkaps\",\"contentType\":\"directory\"},{\"name\":\"appliedPredictiveModeling\",\"path\":\"appliedPredictiveModeling\",\"contentType\":\"directory\"},{\"name\":\"bokeh\",\"path\":\"bokeh\",\"contentType\":\"directory\"},{\"name\":\"calc\",\"path\":\"calc\",\"contentType\":\"directory\"},{\"name\":\"cdc\",\"path\":\"cdc\",\"contentType\":\"directory\"},{\"name\":\"correlatesofwar\",\"path\":\"correlatesofwar\",\"contentType\":\"directory\"},{\"name\":\"d3Examples\",\"path\":\"d3Examples\",\"contentType\":\"directory\"},{\"name\":\"data.gov.in\",\"path\":\"data.gov.in\",\"contentType\":\"directory\"},{\"name\":\"data.gov\",\"path\":\"data.gov\",\"contentType\":\"directory\"},{\"name\":\"dataSoup\",\"path\":\"dataSoup\",\"contentType\":\"directory\"},{\"name\":\"datalibExamples\",\"path\":\"datalibExamples\",\"contentType\":\"directory\"},{\"name\":\"dbpedia\",\"path\":\"dbpedia\",\"contentType\":\"directory\"},{\"name\":\"dcjs\",\"path\":\"dcjs\",\"contentType\":\"directory\"},{\"name\":\"dspl\",\"path\":\"dspl\",\"contentType\":\"directory\"},{\"name\":\"faostat\",\"path\":\"faostat\",\"contentType\":\"directory\"},{\"name\":\"fbi\",\"path\":\"fbi\",\"contentType\":\"directory\"},{\"name\":\"gapminder\",\"path\":\"gapminder\",\"contentType\":\"directory\"},{\"name\":\"geonames\",\"path\":\"geonames\",\"contentType\":\"directory\"},{\"name\":\"indiaGovOpenData\",\"path\":\"indiaGovOpenData\",\"contentType\":\"directory\"},{\"name\":\"integrated\",\"path\":\"integrated\",\"contentType\":\"directory\"},{\"name\":\"ipo\",\"path\":\"ipo\",\"contentType\":\"directory\"},{\"name\":\"jsLibraries\",\"path\":\"jsLibraries\",\"contentType\":\"directory\"},{\"name\":\"mattermark\",\"path\":\"mattermark\",\"contentType\":\"directory\"},{\"name\":\"medicalStoreChallenge\",\"path\":\"medicalStoreChallenge\",\"contentType\":\"directory\"},{\"name\":\"migrants\",\"path\":\"migrants\",\"contentType\":\"directory\"},{\"name\":\"motherjones\",\"path\":\"motherjones\",\"contentType\":\"directory\"},{\"name\":\"nsf\",\"path\":\"nsf\",\"contentType\":\"directory\"},{\"name\":\"nyt\",\"path\":\"nyt\",\"contentType\":\"directory\"},{\"name\":\"oecd\",\"path\":\"oecd\",\"contentType\":\"directory\"},{\"name\":\"olpc\",\"path\":\"olpc\",\"contentType\":\"directory\"},{\"name\":\"osm\",\"path\":\"osm\",\"contentType\":\"directory\"},{\"name\":\"pew\",\"path\":\"pew\",\"contentType\":\"directory\"},{\"name\":\"playfair\",\"path\":\"playfair\",\"contentType\":\"directory\"},{\"name\":\"plotlyExamples\",\"path\":\"plotlyExamples\",\"contentType\":\"directory\"},{\"name\":\"sankey-datasets\",\"path\":\"sankey-datasets\",\"contentType\":\"directory\"},{\"name\":\"senseYourCity\",\"path\":\"senseYourCity\",\"contentType\":\"directory\"},{\"name\":\"slavevoyages\",\"path\":\"slavevoyages\",\"contentType\":\"directory\"},{\"name\":\"stackOverflow\",\"path\":\"stackOverflow\",\"contentType\":\"directory\"},{\"name\":\"statCounter\",\"path\":\"statCounter\",\"contentType\":\"directory\"},{\"name\":\"superstoreSales\",\"path\":\"superstoreSales\",\"contentType\":\"directory\"},{\"name\":\"syntagmatic\",\"path\":\"syntagmatic\",\"contentType\":\"directory\"},{\"name\":\"trumpSpeech\",\"path\":\"trumpSpeech\",\"contentType\":\"directory\"},{\"name\":\"tuskegeeInstitute\",\"path\":\"tuskegeeInstitute\",\"contentType\":\"directory\"},{\"name\":\"tweets\",\"path\":\"tweets\",\"contentType\":\"directory\"},{\"name\":\"uci_ml\",\"path\":\"uci_ml\",\"contentType\":\"directory\"},{\"name\":\"un\",\"path\":\"un\",\"contentType\":\"directory\"},{\"name\":\"undp\",\"path\":\"undp\",\"contentType\":\"directory\"},{\"name\":\"unhcr\",\"path\":\"unhcr\",\"contentType\":\"directory\"},{\"name\":\"usda\",\"path\":\"usda\",\"contentType\":\"directory\"},{\"name\":\"usgs\",\"path\":\"usgs\",\"contentType\":\"directory\"},{\"name\":\"util\",\"path\":\"util\",\"contentType\":\"directory\"},{\"name\":\"uwdata_voyager\",\"path\":\"uwdata_voyager\",\"contentType\":\"directory\"},{\"name\":\"vegaExamples\",\"path\":\"vegaExamples\",\"contentType\":\"directory\"},{\"name\":\"w3schools\",\"path\":\"w3schools\",\"contentType\":\"directory\"},{\"name\":\"wallStreetJournal\",\"path\":\"wallStreetJournal\",\"contentType\":\"directory\"},{\"name\":\"wikibon\",\"path\":\"wikibon\",\"contentType\":\"directory\"},{\"name\":\"worldBank\",\"path\":\"worldBank\",\"contentType\":\"directory\"},{\"name\":\"worldFactbook\",\"path\":\"worldFactbook\",\"contentType\":\"directory\"},{\"name\":\".gitignore\",\"path\":\".gitignore\",\"contentType\":\"file\"},{\"name\":\"Interest Group Spending 2000-2016.csv\",\"path\":\"Interest Group Spending 2000-2016.csv\",\"contentType\":\"file\"},{\"name\":\"LICENSE\",\"path\":\"LICENSE\",\"contentType\":\"file\"},{\"name\":\"README.md\",\"path\":\"README.md\",\"contentType\":\"file\"},{\"name\":\"package.json\",\"path\":\"package.json\",\"contentType\":\"file\"},{\"name\":\"test.js\",\"path\":\"test.js\",\"contentType\":\"file\"}],\"totalCount\":69}},\"fileTreeProcessingTime\":12.076785,\"foldersToFetch\":[],\"reducedMotionEnabled\":null,\"repo\":{\"id\":11796355,\"defaultBranch\":\"gh-pages\",\"name\":\"data\",\"ownerLogin\":\"curran\",\"currentUserCanPush\":false,\"isFork\":false,\"isEmpty\":false,\"createdAt\":\"2013-07-31T17:10:43.000Z\",\"ownerAvatar\":\"https://avatars.githubusercontent.com/u/68416?v=4\",\"public\":true,\"private\":false,\"isOrgOwned\":false},\"refInfo\":{\"name\":\"gh-pages\",\"listCacheKey\":\"v0:1681566383.0\",\"canEdit\":false,\"refType\":\"branch\",\"currentOid\":\"7dc5e36cd5171777e61ceffd893bedb5a4dd6525\"},\"path\":\"migrants/events.csv\",\"currentUser\":null,\"blob\":{\"rawLines\":[],\"stylingDirectives\":[],\"csv\":null,\"csvError\":null,\"dependabotInfo\":{\"showConfigurationBanner\":false,\"configFilePath\":null,\"networkDependabotPath\":\"/curran/data/network/updates\",\"dismissConfigurationNoticePath\":\"/settings/dismiss-notice/dependabot_configuration_notice\",\"configurationNoticeDismissed\":null,\"repoAlertsPath\":\"/curran/data/security/dependabot\",\"repoSecurityAndAnalysisPath\":\"/curran/data/settings/security_analysis\",\"repoOwnerIsOrg\":false,\"currentUserCanAdminRepo\":false},\"displayName\":\"events.csv\",\"displayUrl\":\"https://github.com/curran/data/blob/gh-pages/migrants/events.csv?raw=true\",\"headerInfo\":{\"blobSize\":\"1.14 MB\",\"deleteInfo\":{\"deletePath\":\"https://github.com/curran/data/delete/gh-pages/migrants/events.csv\",\"deleteTooltip\":\"You must be signed in to make or propose changes\"},\"editInfo\":{\"editTooltip\":\"You must be signed in to make or propose changes\"},\"ghDesktopPath\":\"https://desktop.github.com\",\"gitLfsPath\":null,\"onBranch\":true,\"shortPath\":\"b4e2309\",\"siteNavLoginPath\":\"/login?return_to=https%3A%2F%2Fgithub.com%2Fcurran%2Fdata%2Fblob%2Fgh-pages%2Fmigrants%2Fevents.csv\",\"isCSV\":false,\"isRichtext\":false,\"toc\":null,\"lineInfo\":{\"truncatedLoc\":null,\"truncatedSloc\":null},\"mode\":\"file\"},\"image\":false,\"isCodeownersFile\":null,\"isValidLegacyIssueTemplate\":false,\"issueTemplateHelpUrl\":\"https://docs.github.com/articles/about-issue-and-pull-request-templates\",\"issueTemplate\":null,\"discussionTemplate\":null,\"language\":null,\"large\":true,\"loggedIn\":false,\"newDiscussionPath\":\"/curran/data/discussions/new\",\"newIssuePath\":\"/curran/data/issues/new\",\"planSupportInfo\":{\"repoIsFork\":null,\"repoOwnedByCurrentUser\":null,\"requestFullPath\":\"/curran/data/blob/gh-pages/migrants/events.csv\",\"showFreeOrgGatedFeatureMessage\":null,\"showPlanSupportBanner\":null,\"upgradeDataAttributes\":null,\"upgradePath\":null},\"publishBannersInfo\":{\"dismissActionNoticePath\":\"/settings/dismiss-notice/publish_action_from_dockerfile\",\"dismissStackNoticePath\":\"/settings/dismiss-notice/publish_stack_from_file\",\"releasePath\":\"/curran/data/releases/new?marketplace=true\",\"showPublishActionBanner\":false,\"showPublishStackBanner\":false},\"renderImageOrRaw\":true,\"richText\":null,\"renderedFileInfo\":null,\"tabSize\":8,\"topBannersInfo\":{\"overridingGlobalFundingFile\":false,\"globalPreferredFundingPath\":null,\"repoOwner\":\"curran\",\"repoName\":\"data\",\"showInvalidCitationWarning\":false,\"citationHelpUrl\":\"https://docs.github.com/en/github/creating-cloning-and-archiving-repositories/creating-a-repository-on-github/about-citation-files\",\"showDependabotConfigurationBanner\":false,\"actionsOnboardingTip\":null},\"truncated\":true,\"viewable\":false,\"workflowRedirectUrl\":null,\"symbols\":{\"timedOut\":true,\"notAnalyzed\":true,\"symbols\":[],\"error\":{\"code\":\"invalid_argument\",\"msg\":\"content must be present\",\"meta\":{\"argument\":\"content\"}}}},\"copilotUserAccess\":null,\"csrf_tokens\":{\"/curran/data/branches\":{\"post\":\"xvtlYe_Qv_lK94NK17mKXRnsBc_KW0bszcsOR4icSuy7mEuZolnFzvZw0hiLnIc-bmfrJOmBtod_3aY8IIAxmA\"}}},\"title\":\"data/migrants/events.csv at gh-pages · curran/data\",\"locale\":\"en\"}</th>\n",
              "    </tr>\n",
              "  </thead>\n",
              "  <tbody>\n",
              "  </tbody>\n",
              "</table>\n",
              "</div>\n",
              "      <button class=\"colab-df-convert\" onclick=\"convertToInteractive('df-e5987dcc-360a-4112-bb02-044aa736e11a')\"\n",
              "              title=\"Convert this dataframe to an interactive table.\"\n",
              "              style=\"display:none;\">\n",
              "\n",
              "  <svg xmlns=\"http://www.w3.org/2000/svg\" height=\"24px\"viewBox=\"0 0 24 24\"\n",
              "       width=\"24px\">\n",
              "    <path d=\"M0 0h24v24H0V0z\" fill=\"none\"/>\n",
              "    <path d=\"M18.56 5.44l.94 2.06.94-2.06 2.06-.94-2.06-.94-.94-2.06-.94 2.06-2.06.94zm-11 1L8.5 8.5l.94-2.06 2.06-.94-2.06-.94L8.5 2.5l-.94 2.06-2.06.94zm10 10l.94 2.06.94-2.06 2.06-.94-2.06-.94-.94-2.06-.94 2.06-2.06.94z\"/><path d=\"M17.41 7.96l-1.37-1.37c-.4-.4-.92-.59-1.43-.59-.52 0-1.04.2-1.43.59L10.3 9.45l-7.72 7.72c-.78.78-.78 2.05 0 2.83L4 21.41c.39.39.9.59 1.41.59.51 0 1.02-.2 1.41-.59l7.78-7.78 2.81-2.81c.8-.78.8-2.07 0-2.86zM5.41 20L4 18.59l7.72-7.72 1.47 1.35L5.41 20z\"/>\n",
              "  </svg>\n",
              "      </button>\n",
              "\n",
              "\n",
              "\n",
              "    <div id=\"df-5889efc2-286d-4774-8a73-fee79ee35107\">\n",
              "      <button class=\"colab-df-quickchart\" onclick=\"quickchart('df-5889efc2-286d-4774-8a73-fee79ee35107')\"\n",
              "              title=\"Suggest charts.\"\n",
              "              style=\"display:none;\">\n",
              "\n",
              "<svg xmlns=\"http://www.w3.org/2000/svg\" height=\"24px\"viewBox=\"0 0 24 24\"\n",
              "     width=\"24px\">\n",
              "    <g>\n",
              "        <path d=\"M19 3H5c-1.1 0-2 .9-2 2v14c0 1.1.9 2 2 2h14c1.1 0 2-.9 2-2V5c0-1.1-.9-2-2-2zM9 17H7v-7h2v7zm4 0h-2V7h2v10zm4 0h-2v-4h2v4z\"/>\n",
              "    </g>\n",
              "</svg>\n",
              "      </button>\n",
              "    </div>\n",
              "\n",
              "<style>\n",
              "  .colab-df-quickchart {\n",
              "    background-color: #E8F0FE;\n",
              "    border: none;\n",
              "    border-radius: 50%;\n",
              "    cursor: pointer;\n",
              "    display: none;\n",
              "    fill: #1967D2;\n",
              "    height: 32px;\n",
              "    padding: 0 0 0 0;\n",
              "    width: 32px;\n",
              "  }\n",
              "\n",
              "  .colab-df-quickchart:hover {\n",
              "    background-color: #E2EBFA;\n",
              "    box-shadow: 0px 1px 2px rgba(60, 64, 67, 0.3), 0px 1px 3px 1px rgba(60, 64, 67, 0.15);\n",
              "    fill: #174EA6;\n",
              "  }\n",
              "\n",
              "  [theme=dark] .colab-df-quickchart {\n",
              "    background-color: #3B4455;\n",
              "    fill: #D2E3FC;\n",
              "  }\n",
              "\n",
              "  [theme=dark] .colab-df-quickchart:hover {\n",
              "    background-color: #434B5C;\n",
              "    box-shadow: 0px 1px 3px 1px rgba(0, 0, 0, 0.15);\n",
              "    filter: drop-shadow(0px 1px 2px rgba(0, 0, 0, 0.3));\n",
              "    fill: #FFFFFF;\n",
              "  }\n",
              "</style>\n",
              "\n",
              "    <script>\n",
              "      async function quickchart(key) {\n",
              "        const containerElement = document.querySelector('#' + key);\n",
              "        const charts = await google.colab.kernel.invokeFunction(\n",
              "            'suggestCharts', [key], {});\n",
              "      }\n",
              "    </script>\n",
              "\n",
              "      <script>\n",
              "\n",
              "function displayQuickchartButton(domScope) {\n",
              "  let quickchartButtonEl =\n",
              "    domScope.querySelector('#df-5889efc2-286d-4774-8a73-fee79ee35107 button.colab-df-quickchart');\n",
              "  quickchartButtonEl.style.display =\n",
              "    google.colab.kernel.accessAllowed ? 'block' : 'none';\n",
              "}\n",
              "\n",
              "        displayQuickchartButton(document);\n",
              "      </script>\n",
              "      <style>\n",
              "    .colab-df-container {\n",
              "      display:flex;\n",
              "      flex-wrap:wrap;\n",
              "      gap: 12px;\n",
              "    }\n",
              "\n",
              "    .colab-df-convert {\n",
              "      background-color: #E8F0FE;\n",
              "      border: none;\n",
              "      border-radius: 50%;\n",
              "      cursor: pointer;\n",
              "      display: none;\n",
              "      fill: #1967D2;\n",
              "      height: 32px;\n",
              "      padding: 0 0 0 0;\n",
              "      width: 32px;\n",
              "    }\n",
              "\n",
              "    .colab-df-convert:hover {\n",
              "      background-color: #E2EBFA;\n",
              "      box-shadow: 0px 1px 2px rgba(60, 64, 67, 0.3), 0px 1px 3px 1px rgba(60, 64, 67, 0.15);\n",
              "      fill: #174EA6;\n",
              "    }\n",
              "\n",
              "    [theme=dark] .colab-df-convert {\n",
              "      background-color: #3B4455;\n",
              "      fill: #D2E3FC;\n",
              "    }\n",
              "\n",
              "    [theme=dark] .colab-df-convert:hover {\n",
              "      background-color: #434B5C;\n",
              "      box-shadow: 0px 1px 3px 1px rgba(0, 0, 0, 0.15);\n",
              "      filter: drop-shadow(0px 1px 2px rgba(0, 0, 0, 0.3));\n",
              "      fill: #FFFFFF;\n",
              "    }\n",
              "  </style>\n",
              "\n",
              "      <script>\n",
              "        const buttonEl =\n",
              "          document.querySelector('#df-e5987dcc-360a-4112-bb02-044aa736e11a button.colab-df-convert');\n",
              "        buttonEl.style.display =\n",
              "          google.colab.kernel.accessAllowed ? 'block' : 'none';\n",
              "\n",
              "        async function convertToInteractive(key) {\n",
              "          const element = document.querySelector('#df-e5987dcc-360a-4112-bb02-044aa736e11a');\n",
              "          const dataTable =\n",
              "            await google.colab.kernel.invokeFunction('convertToInteractive',\n",
              "                                                     [key], {});\n",
              "          if (!dataTable) return;\n",
              "\n",
              "          const docLinkHtml = 'Like what you see? Visit the ' +\n",
              "            '<a target=\"_blank\" href=https://colab.research.google.com/notebooks/data_table.ipynb>data table notebook</a>'\n",
              "            + ' to learn more about interactive tables.';\n",
              "          element.innerHTML = '';\n",
              "          dataTable['output_type'] = 'display_data';\n",
              "          await google.colab.output.renderOutput(dataTable, element);\n",
              "          const docLink = document.createElement('div');\n",
              "          docLink.innerHTML = docLinkHtml;\n",
              "          element.appendChild(docLink);\n",
              "        }\n",
              "      </script>\n",
              "    </div>\n",
              "  </div>\n"
            ]
          },
          "metadata": {},
          "execution_count": 12
        }
      ]
    },
    {
      "cell_type": "markdown",
      "source": [],
      "metadata": {
        "id": "4zZjn1yVC9cE"
      }
    },
    {
      "cell_type": "markdown",
      "source": [
        "# Google Drive"
      ],
      "metadata": {
        "id": "98j-okufBSTl"
      }
    },
    {
      "cell_type": "code",
      "source": [
        "from google.colab import drive\n",
        "drive.mount('/content/drive')"
      ],
      "metadata": {
        "colab": {
          "base_uri": "https://localhost:8080/"
        },
        "id": "zhPkeU16AEXt",
        "outputId": "52b864b5-08ce-4fd0-e800-a2f2b135b531"
      },
      "execution_count": null,
      "outputs": [
        {
          "output_type": "stream",
          "name": "stdout",
          "text": [
            "Drive already mounted at /content/drive; to attempt to forcibly remount, call drive.mount(\"/content/drive\", force_remount=True).\n"
          ]
        }
      ]
    },
    {
      "cell_type": "code",
      "source": [],
      "metadata": {
        "id": "8zodUCbWCNJE"
      },
      "execution_count": null,
      "outputs": []
    },
    {
      "cell_type": "markdown",
      "source": [
        "#Github Link"
      ],
      "metadata": {
        "id": "x6F6e0-ZCOV9"
      }
    },
    {
      "cell_type": "code",
      "source": [
        "!git clone"
      ],
      "metadata": {
        "id": "sTzp997uCV-k"
      },
      "execution_count": null,
      "outputs": []
    },
    {
      "cell_type": "code",
      "source": [],
      "metadata": {
        "id": "pvAAvItiC8vU"
      },
      "execution_count": null,
      "outputs": []
    }
  ]
}